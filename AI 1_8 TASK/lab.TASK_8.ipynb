{
 "cells": [
  {
   "cell_type": "markdown",
   "metadata": {
    "vscode": {
     "languageId": "plaintext"
    }
   },
   "source": [
    "Code of \"Min Max Algorithm\""
   ]
  },
  {
   "cell_type": "code",
   "execution_count": 1,
   "metadata": {},
   "outputs": [
    {
     "name": "stdout",
     "output_type": "stream",
     "text": [
      "Best score: 0\n"
     ]
    }
   ],
   "source": [
    "def minimax(depth, is_maximizing_player):\n",
    "    if depth == 0:\n",
    "        return 0  \n",
    "    if is_maximizing_player:\n",
    "        best_score = -1  \n",
    "        for move in range(3):  \n",
    "            score = minimax(depth - 1, False)  \n",
    "            best_score = max(best_score, score) \n",
    "        return best_score  \n",
    "    else:\n",
    "        best_score = 1 \n",
    "        for move in range(3):  \n",
    "            score = minimax(depth - 1, True)  \n",
    "            best_score = min(best_score, score) \n",
    "        return best_score \n",
    "best_score = minimax(2, True) \n",
    "print(\"Best score:\", best_score)\n"
   ]
  }
 ],
 "metadata": {
  "kernelspec": {
   "display_name": "Python 3",
   "language": "python",
   "name": "python3"
  },
  "language_info": {
   "codemirror_mode": {
    "name": "ipython",
    "version": 3
   },
   "file_extension": ".py",
   "mimetype": "text/x-python",
   "name": "python",
   "nbconvert_exporter": "python",
   "pygments_lexer": "ipython3",
   "version": "3.12.6"
  }
 },
 "nbformat": 4,
 "nbformat_minor": 2
}
