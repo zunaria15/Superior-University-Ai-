{
 "cells": [
  {
   "cell_type": "markdown",
   "metadata": {},
   "source": [
    "DFS with Stack & Node\n"
   ]
  },
  {
   "cell_type": "code",
   "execution_count": 1,
   "metadata": {},
   "outputs": [
    {
     "name": "stdout",
     "output_type": "stream",
     "text": [
      "A\n",
      "C\n",
      "E\n",
      "B\n",
      "D\n"
     ]
    }
   ],
   "source": [
    "class Node:\n",
    "    def __init__(self, value):\n",
    "        self.value = value\n",
    "        self.visited = False  \n",
    "\n",
    "def dfs_stack(start_node, graph):\n",
    "    stack = [start_node]  \n",
    "    while stack:\n",
    "        current = stack.pop() \n",
    "        if not current.visited:\n",
    "            print(current.value)  \n",
    "            current.visited = True  \n",
    "\n",
    "            stack.extend(graph[current])  \n",
    "A = Node('A')\n",
    "B = Node('B')\n",
    "C = Node('C')\n",
    "D = Node('D')\n",
    "E = Node('E')\n",
    "graph = {\n",
    "    A: [B, C],\n",
    "    B: [D],\n",
    "    C: [E],\n",
    "    D: [],\n",
    "    E: []\n",
    "}\n",
    "dfs_stack(A, graph)\n"
   ]
  },
  {
   "cell_type": "markdown",
   "metadata": {},
   "source": [
    "Research about \"Inorder, Preorder, Postorder\" and implement in DFS"
   ]
  },
  {
   "cell_type": "code",
   "execution_count": 5,
   "metadata": {},
   "outputs": [
    {
     "name": "stdout",
     "output_type": "stream",
     "text": [
      "Preorder Traversal (Root, Left, Right):\n",
      "A B D E C F G Inorder Traversal (Left, Root, Right):\n",
      "D B E A F C G Postorder Traversal (Left, Right, Root):\n",
      "D E B F G C A "
     ]
    }
   ],
   "source": [
    "# 1. Inorder Traversal (Left, Root, Right)\n",
    "# In Inorder traversal, we:\n",
    "# Visit the left subtree first.\n",
    "# Then visit the root (current node).\n",
    "# Finally, visit the right subtree.\n",
    "\n",
    "# 2. Preorder Traversal (Root, Left, Right)\n",
    "# In Preorder traversal, we:\n",
    "# Visit the root (current node) first.\n",
    "# Then visit the left subtree.\n",
    "# Finally, visit the right subtree.\n",
    "\n",
    "# 3. Postorder Traversal (Left, Right, Root)\n",
    "# In Postorder traversal, we:\n",
    "# Visit the left subtree first.\n",
    "# Then visit the right subtree.\n",
    "\n",
    "class Node:\n",
    "    def __init__(self, value):\n",
    "        self.value = value\n",
    "        self.left = None \n",
    "        self.right = None  \n",
    "def preorder_dfs(node):\n",
    "    if node is None:\n",
    "        return\n",
    "    print(node.value, end=' ') \n",
    "    preorder_dfs(node.left)     \n",
    "    preorder_dfs(node.right)    \n",
    "def inorder_dfs(node):\n",
    "    if node is None:\n",
    "        return\n",
    "    inorder_dfs(node.left) \n",
    "    print(node.value, end=' ' )\n",
    "    inorder_dfs(node.right)     \n",
    "def postorder_dfs(node):\n",
    "    if node is None:\n",
    "        return\n",
    "    postorder_dfs(node.left)    \n",
    "    postorder_dfs(node.right)   \n",
    "    print(node.value, end=' ')\n",
    "r = Node('A')        \n",
    "r.left = Node('B')    \n",
    "r.right = Node('C')   \n",
    "r.left.left = Node('D')  \n",
    "r.left.right = Node('E') \n",
    "r.right.left = Node('F') \n",
    "r.right.right = Node('G') \n",
    "print(\"Preorder Traversal (Root, Left, Right):\")\n",
    "preorder_dfs(r) \n",
    "print(\"Inorder Traversal (Left, Root, Right):\")\n",
    "inorder_dfs(r) \n",
    "print(\"Postorder Traversal (Left, Right, Root):\")\n",
    "postorder_dfs(r) \n"
   ]
  },
  {
   "cell_type": "code",
   "execution_count": null,
   "metadata": {},
   "outputs": [],
   "source": []
  }
 ],
 "metadata": {
  "kernelspec": {
   "display_name": "Python 3",
   "language": "python",
   "name": "python3"
  },
  "language_info": {
   "codemirror_mode": {
    "name": "ipython",
    "version": 3
   },
   "file_extension": ".py",
   "mimetype": "text/x-python",
   "name": "python",
   "nbconvert_exporter": "python",
   "pygments_lexer": "ipython3",
   "version": "3.12.6"
  }
 },
 "nbformat": 4,
 "nbformat_minor": 2
}
