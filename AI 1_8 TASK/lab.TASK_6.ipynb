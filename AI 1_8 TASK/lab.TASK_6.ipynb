{
 "cells": [
  {
   "cell_type": "markdown",
   "metadata": {},
   "source": [
    "BFS without Queue & without Node\n"
   ]
  },
  {
   "cell_type": "code",
   "execution_count": 1,
   "metadata": {},
   "outputs": [
    {
     "name": "stdout",
     "output_type": "stream",
     "text": [
      "BFS Traversal:\n",
      "A B C D E F G "
     ]
    }
   ],
   "source": [
    "graph = {\n",
    "    'A': ['B', 'C'],\n",
    "    'B': ['D', 'E'],\n",
    "    'C': ['F', 'G'],\n",
    "    'D': [],\n",
    "    'E': [],\n",
    "    'F': [],\n",
    "    'G': []\n",
    "}\n",
    "\n",
    "def bfs(start_node):\n",
    "    visited = []\n",
    "    nodes_to_visit = [start_node]  \n",
    "    while len(nodes_to_visit) > 0:  \n",
    "        current = nodes_to_visit[0]  \n",
    "        if current not in visited:     \n",
    "            print(current, end=' ')     \n",
    "            visited.append(current)     \n",
    "            for neighbor in graph[current]:\n",
    "                if neighbor not in visited and neighbor not in nodes_to_visit:\n",
    "                    nodes_to_visit.append(neighbor) \n",
    "        nodes_to_visit.pop(0) \n",
    "print(\"BFS Traversal:\")\n",
    "bfs('A')  \n"
   ]
  },
  {
   "cell_type": "markdown",
   "metadata": {},
   "source": [
    " BFS with Queue & Node"
   ]
  },
  {
   "cell_type": "code",
   "execution_count": 2,
   "metadata": {},
   "outputs": [
    {
     "name": "stdout",
     "output_type": "stream",
     "text": [
      "BFS Traversal:\n",
      "A B C D E F G "
     ]
    }
   ],
   "source": [
    "class Node:\n",
    "    def __init__(self, value):\n",
    "        self.value = value  \n",
    "        self.children = []  \n",
    "def bfs(start_node):\n",
    "    queue = [start_node]\n",
    "    visited = []          \n",
    "    while queue:         \n",
    "        current_node = queue.pop(0) \n",
    "        if current_node not in visited: \n",
    "            print(current_node.value, end=' ')  \n",
    "            visited.append(current_node)        \n",
    "            for child in current_node.children:\n",
    "                queue.append(child)  \n",
    "A = Node('A')\n",
    "B = Node('B')\n",
    "C = Node('C')\n",
    "D = Node('D')\n",
    "E = Node('E')\n",
    "F = Node('F')\n",
    "G = Node('G')\n",
    "A.children = [B, C]\n",
    "B.children = [D, E]\n",
    "C.children = [F, G]\n",
    "print(\"BFS Traversal:\")\n",
    "bfs(A)\n"
   ]
  },
  {
   "cell_type": "code",
   "execution_count": null,
   "metadata": {},
   "outputs": [],
   "source": []
  }
 ],
 "metadata": {
  "kernelspec": {
   "display_name": "Python 3",
   "language": "python",
   "name": "python3"
  },
  "language_info": {
   "codemirror_mode": {
    "name": "ipython",
    "version": 3
   },
   "file_extension": ".py",
   "mimetype": "text/x-python",
   "name": "python",
   "nbconvert_exporter": "python",
   "pygments_lexer": "ipython3",
   "version": "3.12.6"
  }
 },
 "nbformat": 4,
 "nbformat_minor": 2
}
